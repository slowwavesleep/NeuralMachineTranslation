{
  "nbformat": 4,
  "nbformat_minor": 0,
  "metadata": {
    "colab": {
      "name": "nmt.ipynb",
      "provenance": [],
      "collapsed_sections": []
    },
    "kernelspec": {
      "name": "python3",
      "display_name": "Python 3"
    },
    "accelerator": "GPU"
  },
  "cells": [
    {
      "cell_type": "code",
      "metadata": {
        "colab": {
          "base_uri": "https://localhost:8080/"
        },
        "id": "UYmG9L15Bwxr",
        "outputId": "caa7776d-9ab1-4b00-cf47-a0ad99e70af2"
      },
      "source": [
        "!git clone https://github.com/slowwavesleep/NeuralMachineTranslation.git"
      ],
      "execution_count": 2,
      "outputs": [
        {
          "output_type": "stream",
          "text": [
            "Cloning into 'NeuralMachineTranslation'...\n",
            "remote: Enumerating objects: 261, done.\u001b[K\n",
            "remote: Counting objects: 100% (261/261), done.\u001b[K\n",
            "remote: Compressing objects: 100% (153/153), done.\u001b[K\n",
            "remote: Total 261 (delta 117), reused 237 (delta 93), pack-reused 0\u001b[K\n",
            "Receiving objects: 100% (261/261), 15.50 MiB | 20.22 MiB/s, done.\n",
            "Resolving deltas: 100% (117/117), done.\n"
          ],
          "name": "stdout"
        }
      ]
    },
    {
      "cell_type": "code",
      "metadata": {
        "colab": {
          "base_uri": "https://localhost:8080/"
        },
        "id": "OLgamT-3CFhb",
        "outputId": "0a48ac21-2223-45e3-aa7f-a3e3830149ed"
      },
      "source": [
        "cd NeuralMachineTranslation"
      ],
      "execution_count": 3,
      "outputs": [
        {
          "output_type": "stream",
          "text": [
            "/content/NeuralMachineTranslation\n"
          ],
          "name": "stdout"
        }
      ]
    },
    {
      "cell_type": "code",
      "metadata": {
        "id": "7o0QA7ZSCN7J",
        "colab": {
          "base_uri": "https://localhost:8080/"
        },
        "outputId": "1c9dd7ae-12c5-4f8e-f706-12ff3f8eaf4a"
      },
      "source": [
        "!bash colab_helper.sh"
      ],
      "execution_count": 4,
      "outputs": [
        {
          "output_type": "stream",
          "text": [
            "--2020-12-20 10:02:34--  https://object.pouta.csc.fi/Tatoeba-Challenge/rus-ukr.tar\n",
            "Resolving object.pouta.csc.fi (object.pouta.csc.fi)... 86.50.254.18, 86.50.254.19\n",
            "Connecting to object.pouta.csc.fi (object.pouta.csc.fi)|86.50.254.18|:443... connected.\n",
            "HTTP request sent, awaiting response... 200 OK\n",
            "Length: 122101760 (116M) [application/x-tar]\n",
            "Saving to: ‘rus-ukr.tar’\n",
            "\n",
            "rus-ukr.tar         100%[===================>] 116.45M  17.1MB/s    in 8.0s    \n",
            "\n",
            "2020-12-20 10:02:43 (14.6 MB/s) - ‘rus-ukr.tar’ saved [122101760/122101760]\n",
            "\n",
            "data/rus-ukr/\n",
            "data/rus-ukr/train.src.gz\n",
            "data/rus-ukr/dev.trg\n",
            "data/rus-ukr/train.id.gz\n",
            "data/rus-ukr/test.trg\n",
            "data/rus-ukr/test.id\n",
            "data/rus-ukr/dev.src\n",
            "data/rus-ukr/dev.id\n",
            "data/rus-ukr/test.src\n",
            "data/rus-ukr/train.trg.gz\n",
            "Collecting youtokentome==1.0.6\n",
            "\u001b[?25l  Downloading https://files.pythonhosted.org/packages/a3/65/4a86cf99da3f680497ae132329025b291e2fda22327e8da6a9476e51acb1/youtokentome-1.0.6-cp36-cp36m-manylinux2010_x86_64.whl (1.7MB)\n",
            "\u001b[K     |████████████████████████████████| 1.7MB 8.3MB/s \n",
            "\u001b[?25hCollecting torch~=1.4.0\n",
            "\u001b[?25l  Downloading https://files.pythonhosted.org/packages/24/19/4804aea17cd136f1705a5e98a00618cb8f6ccc375ad8bfa437408e09d058/torch-1.4.0-cp36-cp36m-manylinux1_x86_64.whl (753.4MB)\n",
            "\u001b[K     |████████████████████████████████| 753.4MB 16kB/s \n",
            "\u001b[?25hCollecting tqdm==4.54.1\n",
            "\u001b[?25l  Downloading https://files.pythonhosted.org/packages/8a/54/115f0c28a61d56674c3a5e05c46d6c3523ad196e1dcd3e2d8b119026df36/tqdm-4.54.1-py2.py3-none-any.whl (69kB)\n",
            "\u001b[K     |████████████████████████████████| 71kB 10.6MB/s \n",
            "\u001b[?25hCollecting numpy==1.19.2\n",
            "\u001b[?25l  Downloading https://files.pythonhosted.org/packages/63/97/af8a92864a04bfa48f1b5c9b1f8bf2ccb2847f24530026f26dd223de4ca0/numpy-1.19.2-cp36-cp36m-manylinux2010_x86_64.whl (14.5MB)\n",
            "\u001b[K     |████████████████████████████████| 14.5MB 245kB/s \n",
            "\u001b[?25hCollecting sacrebleu==1.4.14\n",
            "\u001b[?25l  Downloading https://files.pythonhosted.org/packages/a3/c4/8e948f601a4f9609e8b2b58f31966cb13cf17b940b82aa3e767f01c42c52/sacrebleu-1.4.14-py3-none-any.whl (64kB)\n",
            "\u001b[K     |████████████████████████████████| 71kB 10.9MB/s \n",
            "\u001b[?25hCollecting pyyaml==5.3.1\n",
            "\u001b[?25l  Downloading https://files.pythonhosted.org/packages/64/c2/b80047c7ac2478f9501676c988a5411ed5572f35d1beff9cae07d321512c/PyYAML-5.3.1.tar.gz (269kB)\n",
            "\u001b[K     |████████████████████████████████| 276kB 61.0MB/s \n",
            "\u001b[?25hRequirement already satisfied: Click>=7.0 in /usr/local/lib/python3.6/dist-packages (from youtokentome==1.0.6->-r requirements.txt (line 1)) (7.1.2)\n",
            "Collecting portalocker\n",
            "  Downloading https://files.pythonhosted.org/packages/89/a6/3814b7107e0788040870e8825eebf214d72166adf656ba7d4bf14759a06a/portalocker-2.0.0-py2.py3-none-any.whl\n",
            "Building wheels for collected packages: pyyaml\n",
            "  Building wheel for pyyaml (setup.py) ... \u001b[?25l\u001b[?25hdone\n",
            "  Created wheel for pyyaml: filename=PyYAML-5.3.1-cp36-cp36m-linux_x86_64.whl size=44621 sha256=f94184a2ef5d221bc03f5a9aa4a61235efe69d40ea9bd65944de6f4b7a453e3e\n",
            "  Stored in directory: /root/.cache/pip/wheels/a7/c1/ea/cf5bd31012e735dc1dfea3131a2d5eae7978b251083d6247bd\n",
            "Successfully built pyyaml\n",
            "\u001b[31mERROR: torchvision 0.8.1+cu101 has requirement torch==1.7.0, but you'll have torch 1.4.0 which is incompatible.\u001b[0m\n",
            "\u001b[31mERROR: datascience 0.10.6 has requirement folium==0.2.1, but you'll have folium 0.8.3 which is incompatible.\u001b[0m\n",
            "\u001b[31mERROR: albumentations 0.1.12 has requirement imgaug<0.2.7,>=0.2.5, but you'll have imgaug 0.2.9 which is incompatible.\u001b[0m\n",
            "Installing collected packages: youtokentome, torch, tqdm, numpy, portalocker, sacrebleu, pyyaml\n",
            "  Found existing installation: torch 1.7.0+cu101\n",
            "    Uninstalling torch-1.7.0+cu101:\n",
            "      Successfully uninstalled torch-1.7.0+cu101\n",
            "  Found existing installation: tqdm 4.41.1\n",
            "    Uninstalling tqdm-4.41.1:\n",
            "      Successfully uninstalled tqdm-4.41.1\n",
            "  Found existing installation: numpy 1.19.4\n",
            "    Uninstalling numpy-1.19.4:\n",
            "      Successfully uninstalled numpy-1.19.4\n",
            "  Found existing installation: PyYAML 3.13\n",
            "    Uninstalling PyYAML-3.13:\n",
            "      Successfully uninstalled PyYAML-3.13\n",
            "Successfully installed numpy-1.19.2 portalocker-2.0.0 pyyaml-5.3.1 sacrebleu-1.4.14 torch-1.4.0 tqdm-4.54.1 youtokentome-1.0.6\n"
          ],
          "name": "stdout"
        }
      ]
    },
    {
      "cell_type": "code",
      "metadata": {
        "colab": {
          "base_uri": "https://localhost:8080/"
        },
        "id": "w0QIUpFTDBuC",
        "outputId": "3fbb2d57-9dce-4410-b35c-898518e610d6"
      },
      "source": [
        "!python train.py colab_config.yml"
      ],
      "execution_count": 5,
      "outputs": [
        {
          "output_type": "stream",
          "text": [
            "\n",
            "Attempting to create temporary data...\n",
            "Temporary data successfully created!\n",
            "Training parameters\n",
            "  input: tmp/bpe_text.tmp\n",
            "  model: models/colab/source_bpe.model\n",
            "  vocab_size: 9000\n",
            "  n_threads: 2\n",
            "  character_coverage: 1\n",
            "  pad: 0\n",
            "  unk: 1\n",
            "  bos: 2\n",
            "  eos: 3\n",
            "\n",
            "reading file...\n",
            "learning bpe...\n",
            "number of unique characters in the training data: 401\n",
            "number of deleted characters: 0\n",
            "number of unique characters left: 401\n",
            "id: 1000=20+9                 freq: 8489        subword: ят=я+т\n",
            "id: 2000=578+24               freq: 2616        subword: ▁реб=▁ре+б\n",
            "id: 3000=4+12                 freq: 1486        subword: ▁р=▁+р\n",
            "id: 4000=1664+919             freq: 983         subword: ▁достичь=▁дости+чь\n",
            "id: 5000=525+438              freq: 725         subword: ▁аль=▁а+ль\n",
            "id: 6000=25+502               freq: 552         subword: гры=г+ры\n",
            "id: 7000=3018+1980            freq: 441         subword: ▁окружающей=▁окружа+ющей\n",
            "id: 8000=11+707               freq: 359         subword: спи=с+пи\n",
            "model saved to: models/colab/source_bpe.model\n",
            "BPE model successfully trained!\n",
            "Attempting to remove temporary data...\n",
            "Temporary data successfully removed!\n",
            "\n",
            "Attempting to create temporary data...\n",
            "Temporary data successfully created!\n",
            "Training parameters\n",
            "  input: tmp/bpe_text.tmp\n",
            "  model: models/colab/target_bpe.model\n",
            "  vocab_size: 9000\n",
            "  n_threads: 2\n",
            "  character_coverage: 1\n",
            "  pad: 0\n",
            "  unk: 1\n",
            "  bos: 2\n",
            "  eos: 3\n",
            "\n",
            "reading file...\n",
            "learning bpe...\n",
            "number of unique characters in the training data: 377\n",
            "number of deleted characters: 0\n",
            "number of unique characters left: 377\n",
            "id: 1000=454+12               freq: 8269        subword: оже=ож+е\n",
            "id: 2000=589+558              freq: 2546        subword: ▁фор=▁ф+ор\n",
            "id: 3000=1133+441             freq: 1433        subword: ▁іншими=▁інши+ми\n",
            "id: 4000=423+139              freq: 957         subword: ▁що́=▁що+́\n",
            "id: 5000=1089+394             freq: 714         subword: ▁служить=▁служи+ть\n",
            "id: 6000=30+646               freq: 549         subword: жене=ж+ене\n",
            "id: 7000=547+13               freq: 438         subword: ▁дур=▁ду+р\n",
            "id: 8000=80+84                freq: 365         subword: ot=o+t\n",
            "model saved to: models/colab/target_bpe.model\n",
            "BPE model successfully trained!\n",
            "Attempting to remove temporary data...\n",
            "Temporary data successfully removed!\n",
            "Using GPU...\n",
            "Train: 100% 1563/1563 [21:36<00:00,  1.21it/s, loss=3.95, perplexity=52]\n",
            "Evaluate: 100% 1563/1563 [07:21<00:00,  3.54it/s, loss=3.41, perplexity=30.3]\n",
            "Epoch: 1\n",
            "Train: loss - 4.6365 | perplexity - 103.187\n",
            "Validation: loss - 3.4111 | perplexity - 30.297\n",
            "Train: 100% 1563/1563 [21:50<00:00,  1.19it/s, loss=3.48, perplexity=32.5]\n",
            "Evaluate: 100% 1563/1563 [07:18<00:00,  3.56it/s, loss=3.03, perplexity=20.8]\n",
            "Epoch: 2\n",
            "Train: loss - 3.5798 | perplexity - 35.867\n",
            "Validation: loss - 3.0350 | perplexity - 20.802\n",
            "Train: 100% 1563/1563 [21:48<00:00,  1.19it/s, loss=3.25, perplexity=25.8]\n",
            "Evaluate: 100% 1563/1563 [07:17<00:00,  3.57it/s, loss=2.84, perplexity=17.1]\n",
            "Epoch: 3\n",
            "Train: loss - 3.2907 | perplexity - 26.861\n",
            "Validation: loss - 2.8364 | perplexity - 17.054\n",
            "Train: 100% 1563/1563 [21:49<00:00,  1.19it/s, loss=3.1, perplexity=22.2]\n",
            "Evaluate: 100% 1563/1563 [07:21<00:00,  3.54it/s, loss=2.69, perplexity=14.8]\n",
            "Epoch: 4\n",
            "Train: loss - 3.1176 | perplexity - 22.591\n",
            "Validation: loss - 2.6945 | perplexity - 14.798\n",
            "Train: 100% 1563/1563 [21:49<00:00,  1.19it/s, loss=2.99, perplexity=19.9]\n",
            "Evaluate: 100% 1563/1563 [07:18<00:00,  3.56it/s, loss=2.59, perplexity=13.4]\n",
            "Epoch: 5\n",
            "Train: loss - 2.9951 | perplexity - 19.988\n",
            "Validation: loss - 2.5947 | perplexity - 13.393\n",
            "Translating sentences...: 100% 10000/10000 [05:09<00:00, 32.31it/s]\n"
          ],
          "name": "stdout"
        }
      ]
    },
    {
      "cell_type": "code",
      "metadata": {
        "colab": {
          "base_uri": "https://localhost:8080/"
        },
        "id": "gZ0hg2U6N-gP",
        "outputId": "ecdcf772-1bf5-47bc-f0bb-ba55e4eaad0d"
      },
      "source": [
        "!python test.py results/baseline/translations.txt"
      ],
      "execution_count": 6,
      "outputs": [
        {
          "output_type": "stream",
          "text": [
            "2.1188806296777454\n"
          ],
          "name": "stdout"
        }
      ]
    },
    {
      "cell_type": "code",
      "metadata": {
        "colab": {
          "base_uri": "https://localhost:8080/"
        },
        "id": "TM17PKKRN505",
        "outputId": "195fe369-c435-4ba3-d5fc-45fddfc6a79d"
      },
      "source": [
        "!python test.py results/main/translations.txt"
      ],
      "execution_count": 7,
      "outputs": [
        {
          "output_type": "stream",
          "text": [
            "32.94751842556355\n"
          ],
          "name": "stdout"
        }
      ]
    },
    {
      "cell_type": "code",
      "metadata": {
        "colab": {
          "base_uri": "https://localhost:8080/"
        },
        "id": "Ilq8glVVFjfN",
        "outputId": "6fbb5b44-0124-4416-ad17-3dd1ce2fe03a"
      },
      "source": [
        "!python test.py results/colab/translations.txt"
      ],
      "execution_count": 8,
      "outputs": [
        {
          "output_type": "stream",
          "text": [
            "49.5534248990565\n"
          ],
          "name": "stdout"
        }
      ]
    },
    {
      "cell_type": "code",
      "metadata": {
        "id": "kMbkKQ15QdK7"
      },
      "source": [
        ""
      ],
      "execution_count": null,
      "outputs": []
    }
  ]
}